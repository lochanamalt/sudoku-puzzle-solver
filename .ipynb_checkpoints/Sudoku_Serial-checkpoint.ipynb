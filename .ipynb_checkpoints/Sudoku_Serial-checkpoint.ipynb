{
 "cells": [
  {
   "cell_type": "code",
   "execution_count": 1,
   "metadata": {},
   "outputs": [],
   "source": [
    "import time\n",
    "import numpy as np"
   ]
  },
  {
   "cell_type": "code",
   "execution_count": 2,
   "metadata": {},
   "outputs": [],
   "source": [
    "data = np.loadtxt(\"puzzle.txt\", dtype=np.int16)\n",
    "emptycells=[]"
   ]
  },
  {
   "cell_type": "code",
   "execution_count": 3,
   "metadata": {},
   "outputs": [
    {
     "name": "stdout",
     "output_type": "stream",
     "text": [
      "--- 0.0010006427764892578 seconds ---\n"
     ]
    }
   ],
   "source": [
    "start_time = time.time()\n",
    "\n",
    "#finding empty cells and append them to the array\n",
    "for row in range(9): \n",
    "    for col in range(9): \n",
    "        if(data[row][col]==0): \n",
    "            emptycells.append([row,col])\n",
    "\n",
    "time1 = time.time()\n",
    "            \n",
    "print(\"--- %s seconds ---\" % (time1 - start_time))\n",
    "\n",
    "#print grid\n",
    "def grid(arr): \n",
    "    for i in range(9): \n",
    "        for j in range(9): \n",
    "            print(arr[i][j], end = ' ')\n",
    "        print() \n",
    "        \n",
    "def check_possibility_in_row(arr,row,num):\n",
    "    for i in range(9):\n",
    "        if(arr[row][i] == num):\n",
    "            return False\n",
    "    return True\n",
    "\n",
    "def check_possibility_in_col(arr,col,num):\n",
    "    for i in range(9):\n",
    "        if(arr[i][col] == num):\n",
    "            return False\n",
    "    return True\n",
    "        \n",
    "def check_possibility_in_subsquare(arr,row,col,num):\n",
    "    if((row+1)%3== 0):\n",
    "        row = row - 2\n",
    "    else:\n",
    "        row = row + 1 - (row+1)%3\n",
    "        \n",
    "    if((col+1)%3== 0):\n",
    "        col = col - 2  \n",
    "    else:\n",
    "        col = col + 1 - (col+1)%3  \n",
    "        \n",
    "    for i in range(3): \n",
    "        for j in range(3): \n",
    "            if(arr[i+row][j+col] == num):\n",
    "                return False\n",
    "    return True   "
   ]
  },
  {
   "cell_type": "code",
   "execution_count": 5,
   "metadata": {},
   "outputs": [
    {
     "name": "stdout",
     "output_type": "stream",
     "text": [
      "49\n"
     ]
    },
    {
     "ename": "IndexError",
     "evalue": "list index out of range",
     "output_type": "error",
     "traceback": [
      "\u001b[1;31m---------------------------------------------------------------------------\u001b[0m",
      "\u001b[1;31mIndexError\u001b[0m                                Traceback (most recent call last)",
      "\u001b[1;32m<ipython-input-5-eb93da0b36a5>\u001b[0m in \u001b[0;36m<module>\u001b[1;34m\u001b[0m\n\u001b[0;32m     19\u001b[0m     \u001b[1;32mif\u001b[0m\u001b[1;33m(\u001b[0m\u001b[0mfilled\u001b[0m \u001b[1;33m==\u001b[0m \u001b[1;36m0\u001b[0m\u001b[1;33m)\u001b[0m\u001b[1;33m:\u001b[0m\u001b[1;33m\u001b[0m\u001b[1;33m\u001b[0m\u001b[0m\n\u001b[0;32m     20\u001b[0m         \u001b[0mi\u001b[0m \u001b[1;33m=\u001b[0m \u001b[0mi\u001b[0m\u001b[1;33m-\u001b[0m\u001b[1;36m1\u001b[0m\u001b[1;33m\u001b[0m\u001b[1;33m\u001b[0m\u001b[0m\n\u001b[1;32m---> 21\u001b[1;33m         \u001b[0mrow\u001b[0m \u001b[1;33m=\u001b[0m \u001b[0memptycells\u001b[0m\u001b[1;33m[\u001b[0m\u001b[0mi\u001b[0m\u001b[1;33m]\u001b[0m\u001b[1;33m[\u001b[0m\u001b[1;36m0\u001b[0m\u001b[1;33m]\u001b[0m\u001b[1;33m\u001b[0m\u001b[1;33m\u001b[0m\u001b[0m\n\u001b[0m\u001b[0;32m     22\u001b[0m         \u001b[0mcol\u001b[0m \u001b[1;33m=\u001b[0m \u001b[0memptycells\u001b[0m\u001b[1;33m[\u001b[0m\u001b[0mi\u001b[0m\u001b[1;33m]\u001b[0m\u001b[1;33m[\u001b[0m\u001b[1;36m1\u001b[0m\u001b[1;33m]\u001b[0m\u001b[1;33m\u001b[0m\u001b[1;33m\u001b[0m\u001b[0m\n\u001b[0;32m     23\u001b[0m         \u001b[0mstart_value\u001b[0m \u001b[1;33m=\u001b[0m \u001b[0mdata\u001b[0m\u001b[1;33m[\u001b[0m\u001b[0mrow\u001b[0m\u001b[1;33m]\u001b[0m\u001b[1;33m[\u001b[0m\u001b[0mcol\u001b[0m\u001b[1;33m]\u001b[0m \u001b[1;33m+\u001b[0m \u001b[1;36m1\u001b[0m\u001b[1;33m\u001b[0m\u001b[1;33m\u001b[0m\u001b[0m\n",
      "\u001b[1;31mIndexError\u001b[0m: list index out of range"
     ]
    }
   ],
   "source": [
    "i=0\n",
    "start_value = 1\n",
    "filled = 0\n",
    "\n",
    "print(len(emptycells))\n",
    "\n",
    "start_time = time.time()\n",
    "\n",
    "while(i<len(emptycells)):\n",
    "    row = emptycells[i][0]\n",
    "    col = emptycells[i][1] \n",
    "    for num in range(start_value,10):\n",
    "        if(check_possibility_in_subsquare(data,row,col,num) and check_possibility_in_col(data,col,num) and check_possibility_in_row(data,row,num)):\n",
    "            data[row][col] = num\n",
    "            start_value = 1\n",
    "            filled = 1\n",
    "            break\n",
    "\n",
    "    if(filled == 0):\n",
    "        i = i-1\n",
    "        row = emptycells[i][0]\n",
    "        col = emptycells[i][1]        \n",
    "        start_value = data[row][col] + 1\n",
    "        data[row][col] = 0\n",
    "    else:\n",
    "        i = i+1\n",
    "        filled = 0\n",
    "grid(data)\n",
    "\n",
    "print(\"--- %s seconds ---\" % (time.time() - start_time))"
   ]
  },
  {
   "cell_type": "code",
   "execution_count": null,
   "metadata": {},
   "outputs": [],
   "source": []
  },
  {
   "cell_type": "code",
   "execution_count": null,
   "metadata": {},
   "outputs": [],
   "source": []
  },
  {
   "cell_type": "code",
   "execution_count": null,
   "metadata": {},
   "outputs": [],
   "source": []
  }
 ],
 "metadata": {
  "kernelspec": {
   "display_name": "Python 3",
   "language": "python",
   "name": "python3"
  },
  "language_info": {
   "codemirror_mode": {
    "name": "ipython",
    "version": 3
   },
   "file_extension": ".py",
   "mimetype": "text/x-python",
   "name": "python",
   "nbconvert_exporter": "python",
   "pygments_lexer": "ipython3",
   "version": "3.7.3"
  }
 },
 "nbformat": 4,
 "nbformat_minor": 2
}
